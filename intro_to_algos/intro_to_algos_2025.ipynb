{
 "cells": [
  {
   "cell_type": "markdown",
   "metadata": {},
   "source": [
    "## The basic data types\n",
    "\n",
    "This is sort of a code along tutorial so you need to download this notebook from [here]()\n",
    "\n",
    "Let's examine the fundamental data types in Python that are essential for bioinformatics data analysis. These correspond to the various types of data you encounter in research:\n",
    "\n",
    "When quantifying biological elements - such as gene counts or chromosome numbers - you work with whole numbers. In Python, these are represented as integers (int). Just as you perform mathematical operations manually, Python enables numerical computations with integers. We'll explore how to count genetic elements and perform basic mathematical operations.\n",
    "\n",
    "However, biological measurements aren't always discrete. Gene expression measurements and statistical analyses like p-values require decimal numbers. These are implemented as floating-point numbers (float) in Python. We'll examine how to handle expression values and perform the statistical calculations that are fundamental to bioinformatics.\n",
    "\n",
    "Text data is equally crucial in bioinformatics - from gene identifiers to DNA sequences and protein codes. Python represents this data type as strings (str). Strings are versatile, enabling numerous useful operations such as calculating nucleotide frequencies in DNA sequences or standardizing gene nomenclature through case conversion."
   ]
  },
  {
   "cell_type": "code",
   "execution_count": null,
   "metadata": {},
   "outputs": [],
   "source": [
    "%%bash\n",
    "# First we need to load the necessary modules IF we are on Vera\n",
    "# Doubble check this for next year!\n",
    "module load scipy/1.13.1\n",
    "module load Seaborn/0.13.2-gfbf-2024a\n",
    "module load  matplotlib/3.9.2"
   ]
  },
  {
   "cell_type": "code",
   "execution_count": null,
   "metadata": {},
   "outputs": [],
   "source": [
    "# 1. Integers (int) - Whole numbers\n",
    "gene_count = 42\n",
    "chromosome_number = 23\n",
    "\n",
    "# Let's see what happens when we do operations with integers\n",
    "print(f\"Number of genes: {gene_count}\")\n",
    "print(f\"If we sequence twice as many genes: {gene_count * 2}\")"
   ]
  },
  {
   "cell_type": "code",
   "execution_count": null,
   "metadata": {},
   "outputs": [],
   "source": [
    "# 2. Floating Point Numbers (float) - Numbers with decimals\n",
    "gene_expression = 1.45\n",
    "p_value = 0.001\n",
    "fold_change = 2.5\n",
    "\n",
    "# Common operations in expression analysis\n",
    "print(f\"Expression value: {gene_expression}\")\n",
    "print(f\"Expression after fold change: {gene_expression * fold_change}\")\n",
    "print(f\"Is this p-value significant? {p_value < 0.05}\")"
   ]
  },
  {
   "cell_type": "code",
   "execution_count": null,
   "metadata": {},
   "outputs": [],
   "source": [
    "# 3. Strings (str) - Text data\n",
    "gene_name = \"BRCA1\"\n",
    "dna_sequence = \"ATGCGT\"\n",
    "\n",
    "# String operations that are useful in bioinformatics\n",
    "print(f\"Gene name: {gene_name}\")\n",
    "print(f\"Gene name in lowercase: {gene_name.lower()}\")\n",
    "print(f\"DNA sequence length: {len(dna_sequence)}\")\n",
    "print(f\"Number of G bases: {dna_sequence.count('G')}\")"
   ]
  },
  {
   "cell_type": "code",
   "execution_count": null,
   "metadata": {},
   "outputs": [],
   "source": [
    "# Type conversion \n",
    "sequence_length = len(dna_sequence)  # This is an integer\n",
    "gc_content = (dna_sequence.count('G') + dna_sequence.count('C')) / len(dna_sequence)  # This is a float\n",
    "print(f\"GC content: {gc_content:.2f}\")  # .2f formats to 2 decimal places"
   ]
  },
  {
   "cell_type": "markdown",
   "metadata": {},
   "source": [
    "## Lists and for loops\n",
    "\n",
    "Now that we understand basic data types, let's explore how to work with collections of biological data. In bioinformatics research, you rarely analyze a single p-value or gene name - typical datasets contain hundreds or thousands of entries. This is where lists become essential. A list in Python serves as an ordered container for multiple values, comparable to a column in a spreadsheet where each cell holds a distinct value.\n",
    "\n",
    "However, storing data in lists is just the foundation. You'll frequently need to apply identical operations across all items - whether that's evaluating the significance of each p-value or processing every gene in your dataset. Rather than repeating code, a for loop allows you to automate these repetitive tasks efficiently. Lists and for loops work in tandem: the list stores your biological data (such as p-values or gene names), while the for loop processes each item sequentially and automatically. It's equivalent to instructing Python to 'Evaluate the significance of each p-value in my experimental results' or 'Calculate the length of each gene in my sequence list.\n",
    "\n",
    "Here is a [link](https://realpython.com/python-list/) to a tutorial about lists in Python and one for [for loops](https://realpython.com/python-for-loop/)."
   ]
  },
  {
   "cell_type": "code",
   "execution_count": null,
   "metadata": {},
   "outputs": [],
   "source": [
    "# Example 1: Working with p-values from a differential expression analysis\n",
    "p_values = [0.042, 0.127, 0.031, 0.982, 0.001, 0.067, 0.015]\n",
    "significant_count = 0\n",
    "\n",
    "# Count how many p-values are significant (< 0.05)\n",
    "for p_value in p_values:\n",
    "    if p_value < 0.05:\n",
    "        significant_count += 1\n",
    "        \n",
    "print(f\"Number of significant p-values: {significant_count}\")"
   ]
  },
  {
   "cell_type": "code",
   "execution_count": null,
   "metadata": {},
   "outputs": [],
   "source": [
    "# We can do the same thing more elegantly with a list comprehension\n",
    "significant_count = len([p*2 for p in p_values if p < 0.05])\n",
    "print(f\"Number of significant p-values (using list comprehension): {significant_count}\")"
   ]
  },
  {
   "cell_type": "code",
   "execution_count": null,
   "metadata": {},
   "outputs": [],
   "source": [
    "# Example 2: Checking if a gene is present in our dataset\n",
    "antibiotic_resistance_genes = [\"gyrA\", \"parC\", \"qnrS\", \"tetM\", \"blaTEM\"]\n",
    "gene_of_interest = \"gyrA\"\n",
    "\n",
    "if gene_of_interest in antibiotic_resistance_genes:\n",
    "    print(f\"{gene_of_interest} is in our list of resistance genes\")\n",
    "else:\n",
    "    print(f\"{gene_of_interest} is not in our list of resistance genes\")"
   ]
  },
  {
   "cell_type": "code",
   "execution_count": null,
   "metadata": {},
   "outputs": [],
   "source": [
    "# Let's try another gene\n",
    "gene_of_interest = \"mecA\"\n",
    "if gene_of_interest in antibiotic_resistance_genes:\n",
    "    print(f\"{gene_of_interest} is in our list of resistance genes\")\n",
    "else:\n",
    "    print(f\"{gene_of_interest} is not in our list of resistance genes\")"
   ]
  },
  {
   "cell_type": "code",
   "execution_count": null,
   "metadata": {},
   "outputs": [],
   "source": [
    "# Example 3: Working with gene names and their expression values together\n",
    "gene_names = [\"gyrA\", \"parC\", \"qnrS\", \"tetM\"]\n",
    "expression_values = [1.5, 0.8, 2.1, 0.3]\n",
    "\n",
    "# Print genes and their expression values\n",
    "for gene, expression in zip(gene_names, expression_values):\n",
    "    print(f\"Gene {gene} has expression value: {expression}\")"
   ]
  },
  {
   "cell_type": "code",
   "execution_count": null,
   "metadata": {},
   "outputs": [],
   "source": [
    "# Find highly expressed genes (expression > 1.0)\n",
    "highly_expressed = [gene for gene, expr in zip(gene_names, expression_values) if expr > 1.0]\n",
    "print(f\"\\nHighly expressed genes: {highly_expressed}\")"
   ]
  },
  {
   "cell_type": "markdown",
   "metadata": {},
   "source": [
    "What about when you need to access a particular value in a list? Lets say the forth value? Or the second to fifth value? Python starts counting at 0, so the first element is at position 0. Here's how it works:"
   ]
  },
  {
   "cell_type": "code",
   "execution_count": null,
   "metadata": {},
   "outputs": [],
   "source": [
    "# Create a list of p-values\n",
    "p_values = [0.001, 0.043, 0.028, 0.015, 0.062, 0.008, 0.051, 0.037]\n",
    "\n",
    "# Get single elements\n",
    "print(f\"First p-value (index 0): {p_values[0]}\")\n",
    "print(f\"Fifth p-value (index 4): {p_values[4]}\")\n",
    "\n",
    "# Get a slice (elements 3-5)\n",
    "# Syntax is list[start:end] - note that end index is not included\n",
    "print(f\"P-values from position 3 to 5: {p_values[3:6]}\")\n",
    "\n",
    "# Get last element\n",
    "print(f\"Last p-value: {p_values[-1]}\")\n",
    "\n",
    "# Get elements from start to position 3\n",
    "print(f\"First four p-values: {p_values[:4]}\")\n",
    "\n",
    "# Get elements from position 5 to end\n",
    "print(f\"All p-values from position 5 onwards: {p_values[5:]}\")"
   ]
  },
  {
   "cell_type": "markdown",
   "metadata": {},
   "source": [
    "##  Dictionaries\n",
    "\n",
    "In bioinformatics data analysis, we frequently need to establish direct relationships between pieces of data - for instance, mapping gene IDs to their expression values, or linking protein names to their sequences. While we could use parallel lists for this purpose, Python dictionaries offer a more efficient and elegant solution.\n",
    "\n",
    "A dictionary is a data structure that creates explicit key-value pairs. You can think of it like a lookup table: each unique identifier (key) maps to its corresponding data (value). For example, if you have gene names as keys, you can instantly look up their corresponding expression values without having to search through a list. Unlike lists which rely on numerical positions (0, 1, 2...), dictionaries let you access values using meaningful identifiers (like 'BRCA1' or 'TP53')."
   ]
  },
  {
   "cell_type": "code",
   "execution_count": null,
   "metadata": {},
   "outputs": [],
   "source": [
    "# Creating a dictionary mapping gene IDs to their expression values\n",
    "gene_expression = {\n",
    "    'BRCA1': 2.5,\n",
    "    'TP53': 1.8,\n",
    "    'EGFR': 3.2,\n",
    "    'KRAS': 0.7\n",
    "}\n",
    "\n",
    "# Accessing values using keys\n",
    "print(f\"BRCA1 expression level: {gene_expression['BRCA1']}\")\n",
    "# Adding new entries\n",
    "gene_expression['PTEN'] = 1.4\n",
    "\n",
    "gene_expression"
   ]
  },
  {
   "cell_type": "code",
   "execution_count": null,
   "metadata": {},
   "outputs": [],
   "source": [
    "# Creating a more complex dictionary with multiple data points per gene\n",
    "gene_data = {\n",
    "    'BRCA1': {\n",
    "        'expression': 2.5,\n",
    "        'p_value': 0.001,\n",
    "        'chromosome': 17\n",
    "    },\n",
    "    'TP53': {\n",
    "        'expression': 1.8,\n",
    "        'p_value': 0.003,\n",
    "        'chromosome': 17\n",
    "    }\n",
    "}\n",
    "\n",
    "# Accessing nested data\n",
    "print(f\"\\nTP53 data:\")\n",
    "print(f\"Expression: {gene_data['TP53']['expression']}\")\n",
    "print(f\"Located on chromosome: {gene_data['TP53']['chromosome']}\")"
   ]
  },
  {
   "cell_type": "code",
   "execution_count": null,
   "metadata": {},
   "outputs": [],
   "source": [
    "# More complex example: Dictionary with multiple lists per gene\n",
    "gene_data_series = {\n",
    "    'BRCA1': {\n",
    "        'expression': [1.2, 2.4, 1.8, 2.1],\n",
    "        'p_values': [0.001, 0.002, 0.001, 0.005],\n",
    "        'sample_ids': ['A1', 'A2', 'A3', 'A4']\n",
    "    },\n",
    "    'TP53': {\n",
    "        'expression': [0.8, 1.1, 3.2, 2.8],\n",
    "        'p_values': [0.003, 0.001, 0.002, 0.001],\n",
    "        'sample_ids': ['A1', 'A2', 'A3', 'A4']\n",
    "    }\n",
    "}\n",
    "\n",
    "# Analyzing the complex data structure\n",
    "print(\"\\nDetailed analysis of TP53:\")\n",
    "print(\"Expression values:\", gene_data_series['TP53']['expression'])\n",
    "print(\"Corresponding p-values:\", gene_data_series['TP53']['p_values'])\n",
    "print(\"Samples:\", gene_data_series['TP53']['sample_ids'])"
   ]
  },
  {
   "cell_type": "code",
   "execution_count": null,
   "metadata": {},
   "outputs": [],
   "source": [
    "# Practical example: Counting mutations in different genes\n",
    "mutation_counts = {}\n",
    "sequenced_genes = ['TP53', 'BRCA1', 'TP53', 'KRAS', 'BRCA1', 'TP53']\n",
    "\n",
    "for gene in sequenced_genes:\n",
    "    if gene in mutation_counts:\n",
    "        mutation_counts[gene] += 1\n",
    "    else:\n",
    "        mutation_counts[gene] = 1\n",
    "\n",
    "print(\"\\nMutation frequencies:\")\n",
    "for gene, count in mutation_counts.items():\n",
    "    print(f\"{gene}: {count} mutations\")"
   ]
  },
  {
   "cell_type": "markdown",
   "metadata": {},
   "source": [
    "## DataFrames and Pandas\n",
    "\n",
    "In bioinformatics, we frequently work with large, structured datasets containing information about genes, proteins, expression levels, and experimental conditions. While Python's built-in data structures (lists and dictionaries) are useful for simple operations, they become cumbersome when dealing with complex biological data. This is where pandas comes in.\n",
    "\n",
    "Pandas is a powerful data manipulation library that provides a data structure called DataFrame, which is particularly well-suited for bioinformatics data analysis. Think of a DataFrame as a spreadsheet in Python - it has rows and columns, can handle different data types, and comes with many built-in functions for data analysis.\n",
    "\n",
    "### Structure \n",
    "\n",
    "A pandas DataFrame is a 2-dimensional labeled data structure. In bioinformatics, we typically organize data so that:\n",
    "\n",
    "* Each row represents an observation (e.g., a gene, sample, or experiment)\n",
    "* Each column represents a variable or measurement (e.g., expression levels, p-values, or experimental conditions)\n",
    "* Both rows and columns have labels (called indices and column names)"
   ]
  },
  {
   "cell_type": "code",
   "execution_count": null,
   "metadata": {},
   "outputs": [],
   "source": [
    "import pandas as pd\n",
    "\n",
    "# Create a simple DataFrame from our expression data\n",
    "expression_df = pd.DataFrame({\n",
    "    'gene_name': ['BRCA1', 'BRCA1', 'BRCA1', 'BRCA1', 'BRCA1',\n",
    "                  'TP53', 'TP53', 'TP53', 'TP53', 'TP53',\n",
    "                  'EGFR', 'EGFR', 'EGFR', 'EGFR', 'EGFR'],\n",
    "    'sample_site': ['brain', 'liver', 'lung', 'kidney', 'heart'] * 3,\n",
    "    'expression': [245.6, 178.9, 334.2, 198.7, 267.3,\n",
    "                  678.9, 589.4, 723.1, 645.8, 701.2,\n",
    "                  1456.2, 1234.5, 1567.8, 1345.6, 1489.2],\n",
    "    'p_value': [0.001, 0.003, 0.0005, 0.002, 0.001,\n",
    "                0.04, 0.02, 0.03, 0.01, 0.02,\n",
    "                0.0001, 0.0003, 0.0002, 0.0001, 0.0004],\n",
    "    'fold_change': [2.5, 1.8, 3.2, 2.1, 2.7,\n",
    "                    0.3, 0.4, 0.2, 0.5, 0.3,\n",
    "                    4.2, 3.8, 4.5, 4.0, 4.3],\n",
    "    'concentration_g': [10000, 8500, 12000, 9500, 11000,\n",
    "                       2045, 1890, 2200, 1950, 2100,\n",
    "                       15, 12, 18, 14, 16]\n",
    "})\n",
    "\n",
    "# Set the gene_name column as the index\n",
    "expression_df.set_index('gene_name', inplace=True)\n",
    "expression_df"
   ]
  },
  {
   "cell_type": "markdown",
   "metadata": {},
   "source": [
    "### Long vs wide data frames\n",
    "\n",
    "In modern bioinformatics data analysis, long format dataframes have become the standard way to organize data. Imagine a spreadsheet where each row represents a single observation, and each column represents a different attribute of that observation. This format is sometimes called \"tidy data\" because every row is a complete data point.\n",
    "In a long format dataframe, you'll typically see columns like:\n",
    "\n",
    "Sample identifiers (e.g., \"patient_001\", \"patient_002\")\n",
    "Experimental conditions (e.g., \"control\", \"treated\")\n",
    "Time points (e.g., \"0h\", \"24h\", \"48h\")\n",
    "Measured values (e.g., gene expression levels)\n",
    "Technical details (e.g., batch number, sequencing run)\n",
    "\n",
    "For example, if you're measuring gene expression, each row would represent a single measurement. You might have one row showing that BRCA1 expression in patient_001 under control conditions at 24 hours was 127.3 units. The next row might show the same gene in the same patient but under treated conditions.\n",
    "This format is particularly powerful because it makes it easy to:\n",
    "\n",
    "Filter your data (e.g., \"show me all measurements from treated samples\")\n",
    "Group and aggregate (e.g., \"calculate the average expression per condition\")\n",
    "Create visualizations (most plotting libraries prefer long format)\n",
    "Perform statistical tests (the data is already organized for most statistical functions)\n",
    "\n",
    "While this format might seem repetitive - you'll see the same gene names or patient IDs multiple times - it's actually more flexible and robust than alternatives. Modern tools like pandas are optimized to handle this repetition efficiently, using special data types that minimize memory usage.\n",
    "The alternative, wide format, is like a matrix where each condition gets its own column. While this might look neater in a spreadsheet, it's generally less useful for analysis. That's why most bioinformaticians work primarily with long format data, converting to wide format only when specifically needed (like for certain visualization types or matrix operations)."
   ]
  },
  {
   "cell_type": "markdown",
   "metadata": {},
   "source": [
    "### Basic Operations\n",
    "\n",
    "#### Accessing Data"
   ]
  },
  {
   "cell_type": "code",
   "execution_count": null,
   "metadata": {},
   "outputs": [],
   "source": [
    "# Select a single column (all control values)\n",
    "p_values = expression_df['p_value']\n",
    "p_values"
   ]
  },
  {
   "cell_type": "code",
   "execution_count": null,
   "metadata": {},
   "outputs": [],
   "source": [
    "# Select multiple columns\n",
    "condition_data = expression_df[['p_value', 'fold_change']]\n",
    "condition_data"
   ]
  },
  {
   "cell_type": "code",
   "execution_count": null,
   "metadata": {},
   "outputs": [],
   "source": [
    "# Select a specific gene's data\n",
    "brca1_data = expression_df.loc['BRCA1']\n",
    "brca1_data"
   ]
  },
  {
   "cell_type": "code",
   "execution_count": null,
   "metadata": {},
   "outputs": [],
   "source": [
    "# Perform calculation on columns\n",
    "expression_df[\"concentration_Kg\"] = expression_df.concentration_g / 1000\n",
    "expression_df"
   ]
  },
  {
   "cell_type": "markdown",
   "metadata": {},
   "source": [
    "##### Python Operators for Data Filtering\n",
    "\n",
    "**Comparison Operators**\n",
    "\n",
    "x == y    # Equal to\n",
    "\n",
    "x != y    # Not equal to\n",
    "\n",
    "x > y     # Greater than\n",
    "\n",
    "x < y     # Less than\n",
    "\n",
    "x >= y    # Greater than or equal to\n",
    "\n",
    "x <= y    # Less than or equal to\n",
    "\n",
    "**Logical Operators**\n",
    "\n",
    "condition1 & condition2    # AND - both must be true\n",
    "\n",
    "condition1 | condition2    # OR - at least one must be true\n",
    "\n",
    "~condition                 # NOT - reverses the condition"
   ]
  },
  {
   "cell_type": "code",
   "execution_count": null,
   "metadata": {},
   "outputs": [],
   "source": [
    "# Count the number of significant genes in the kidney with fold_change > 2 \n",
    "high_expression = expression_df[(expression_df['p_value'] <= 0.05) & \n",
    "                                (expression_df['fold_change'] > 2) &\n",
    "                                (expression_df['sample_site'] == \"kidney\")].index.nunique()\n",
    "high_expression"
   ]
  },
  {
   "cell_type": "markdown",
   "metadata": {},
   "source": [
    "## Your Task\n",
    "Complete the following code blocks to analyze this data using pandas operations.\n",
    "1. Calculate Basic Statistics\n",
    "Calculate summary statistics for both conditions:"
   ]
  },
  {
   "cell_type": "code",
   "execution_count": null,
   "metadata": {},
   "outputs": [],
   "source": [
    "import numpy as np\n",
    "from scipy import stats\n",
    "\n",
    "# Set random seed for reproducibility\n",
    "np.random.seed(42)\n",
    "\n",
    "# Create DataFrame with expression data\n",
    "expression_data = pd.DataFrame({\n",
    "    'expression_before': [98.2, 103.4, 86.5, 92.8, 107.2, 95.6, 96.7, 101.3, 89.4, \n",
    "                         91.2, 94.5, 102.8, 97.6, 95.4, 88.3, 93.2, 99.1, 96.8, \n",
    "                         104.5, 98.7, 91.4, 94.6, 96.2, 97.8, 95.5, 93.4, 97.1, \n",
    "                         99.3, 92.6, 95.8],\n",
    "    'expression_after':  [175.4, 182.3, 168.7, 188.9, 177.2, 165.8, 179.4, 173.2, \n",
    "                         181.5, 174.6, 169.8, 183.4, 176.7, 172.3, 178.9, 184.5, \n",
    "                         171.2, 177.8, 182.1, 175.6, 179.8, 173.4, 176.5, 180.2, \n",
    "                         174.3, 178.7, 181.9, 175.1, 177.6, 182.4]\n",
    "})\n",
    "\n",
    "# Add sample IDs as index\n",
    "expression_data.index = [f'sample_{i+1}' for i in range(len(expression_data))]\n",
    "\n",
    "# Preview the data\n",
    "print(\"First few rows of our expression data:\")\n",
    "print(expression_data.head())"
   ]
  },
  {
   "cell_type": "markdown",
   "metadata": {},
   "source": [
    "### 2. Calculate statistics Fold Change\n",
    "\n",
    "Look in the [pandas cheat sheet](https://pandas.pydata.org/Pandas_Cheat_Sheet.pdf) under the Summarize Data header to find out how to perform the right operation on the data."
   ]
  },
  {
   "cell_type": "code",
   "execution_count": null,
   "metadata": {},
   "outputs": [],
   "source": [
    "# Calculate mean, standard deviation, and standard error for both conditions\n",
    "summary_stats = pd.DataFrame({\n",
    "    'mean': [expression_data['expression_before'].______, \n",
    "            expression_data['expression_after'].______],\n",
    "    'std': [expression_data['expression_before'].______, \n",
    "           expression_data['expression_after'].______],\n",
    "    'sem': [expression_data['expression_before'].std() / np.sqrt(______), \n",
    "           expression_data['expression_after'].std() / np.sqrt(______)]\n",
    "}, index=['Before', 'After'])\n",
    "\n",
    "print(\"Summary Statistics:\")\n",
    "print(summary_stats)"
   ]
  },
  {
   "cell_type": "code",
   "execution_count": null,
   "metadata": {},
   "outputs": [],
   "source": [
    "# Create column called \"fold_change\" based on  expression_after / expression_before\n",
    "\n",
    "# Calculate the median cold change and print that value"
   ]
  },
  {
   "cell_type": "markdown",
   "metadata": {},
   "source": [
    "### 3. Perform Statistical Analysis\n",
    "\n",
    "Perform a paired t-test since we have matched samples:"
   ]
  },
  {
   "cell_type": "code",
   "execution_count": null,
   "metadata": {},
   "outputs": [],
   "source": [
    "# Perform paired t-test\n",
    "t_stat, p_value = stats.ttest_rel(\n",
    "    expression_data['_______'],\n",
    "    expression_data['_______'] \n",
    ")\n",
    "\n",
    "print(f\"t-statistic: {t_stat:.4f}\")\n",
    "print(f\"p-value: {p_value:.4e}\")"
   ]
  },
  {
   "cell_type": "markdown",
   "metadata": {},
   "source": [
    "#### 4. Plot the data\n",
    "\n",
    "There a a lot of data visualisation libraries for Python which is compatible with the data frame format. Some examples are [Seaborn](https://seaborn.pydata.org) and [Plotly](https://plotly.com/python/getting-started/). Seaborn is built on Matplotlib, a very useful, but complicated plotting library. Seaborn or Plotly can often give you a better looking plot with much fewer lines of code compared to Matplotlib."
   ]
  },
  {
   "cell_type": "code",
   "execution_count": null,
   "metadata": {},
   "outputs": [],
   "source": [
    "import matplotlib.pyplot as plt\n",
    "import seaborn as sns\n",
    "\n",
    "# Convert data from wide to long format\n",
    "expression_data_long = pd.melt(\n",
    "    expression_data, \n",
    "    value_vars=['expression_before', 'expression_after'],\n",
    "    var_name='condition',\n",
    "    value_name='expression'\n",
    ")\n",
    "\n",
    "# Create the plot\n",
    "plt.figure(figsize=(8, 6))\n",
    "sns.boxplot(data=expression_data_long, x='_______', y='_______')\n",
    "sns.despine()\n",
    "plt.title('BRCA1 Expression Before and After Treatment')\n",
    "plt.ylabel('Expression Level')\n",
    "plt.tight_layout()\n",
    "plt.show()"
   ]
  },
  {
   "cell_type": "markdown",
   "metadata": {},
   "source": [
    "## Why Pandas is Fast: A Bioinformatics Perspective\n",
    "\n",
    "In bioinformatics, we often work with large datasets - from gene expression matrices with thousands of genes across hundreds of samples to variant calling data with millions of rows. Let's understand why pandas is significantly faster than base Python for these operations.\n",
    "\n",
    "### Performance Comparison Example\n",
    "\n",
    "Let's look at a practical example comparing pandas to base Python lists for a common bioinformatics task. We will use the ``%%timeit`` magic to measure how long each function takes to execute."
   ]
  },
  {
   "cell_type": "code",
   "execution_count": 168,
   "metadata": {},
   "outputs": [],
   "source": [
    "def analyze_list(expression_list):\n",
    "    \"\"\"\n",
    "    Analyzes a list of expression values.\n",
    "    Returns: (median_expression, num_high_expression)\n",
    "    \"\"\"\n",
    "    # Calculate median\n",
    "    median = np.median(expression_list)\n",
    "    \n",
    "    # Count genes with expression > 150\n",
    "    high_expr_count = sum(1 for expr in expression_list if expr > 150)\n",
    "    \n",
    "    return median, high_expr_count\n",
    "\n",
    "def analyze_dataframe(df):\n",
    "    \"\"\"\n",
    "    Analyzes a dataframe with an 'expression' column.\n",
    "    Returns: (median_expression, num_high_expression)\n",
    "    \"\"\"\n",
    "    # Calculate median\n",
    "    median = df['expression'].median()\n",
    "    \n",
    "    # Count genes with expression > 150\n",
    "    high_expr_count = len(df[df['expression'] > 150])\n",
    "    \n",
    "    return median, high_expr_count\n",
    "\n",
    "list_timeit = [round(np.random.normal(200, 15)) for _ in range(100_000)]\n",
    "\n",
    "df_timeit = pd.DataFrame({\n",
    "    'sample_name': \"Sea_water\",\n",
    "    'expression': list_timeit\n",
    "})\n"
   ]
  },
  {
   "cell_type": "code",
   "execution_count": null,
   "metadata": {},
   "outputs": [],
   "source": [
    "%%timeit\n",
    "\n",
    "analyze_list(list_timeit)"
   ]
  },
  {
   "cell_type": "code",
   "execution_count": null,
   "metadata": {},
   "outputs": [],
   "source": [
    "%%timeit\n",
    "\n",
    "analyze_dataframe(df_timeit)"
   ]
  },
  {
   "cell_type": "markdown",
   "metadata": {},
   "source": [
    "#### Why Pandas is Faster\n",
    "\n",
    "##### Vectorized Operations\n",
    "\n",
    "* Instead of using loops to process each value individually, pandas performs operations on entire columns or arrays at once\n",
    "* In our gene expression example, calculating means across all genes happens in a single operation\n",
    "* This is especially important in bioinformatics where we often need to normalize or transform entire datasets\n",
    "\n",
    "\n",
    "##### Optimized C Backend\n",
    "\n",
    "* Pandas is built on top of NumPy, which is implemented in C\n",
    "* Core operations are executed in compiled C code rather than interpreted Python\n",
    "*Particularly beneficial for bioinformatics tasks like:\n",
    "\n",
    "    * Calculating fold changes across thousands of genes\n",
    "    * Computing p-values for differential expression\n",
    "    * Normalizing large expression matrices\n",
    "\n",
    "##### Memory Efficiency\n",
    "\n",
    "* Pandas uses optimized data structures for numerical data\n",
    "* Data types are uniform within columns (e.g., all float64)\n",
    "* Essential when working with large-scale genomics data"
   ]
  },
  {
   "cell_type": "markdown",
   "metadata": {},
   "source": [
    "## Questions\n",
    "\n",
    "Before you finish today you will have to answer these questions and discuss them to the TAs. You do not need to write an assay here. We just want to make sure you have understood all the concepts. \n",
    "\n",
    "1. Did you work with a long or wide df in this exercise? Which would have been the best option? \n",
    "\n",
    "2. After having done some coding in Jupyter notebooks. Do you see any benefits of working this way in relation to using python script?\n",
    "\n",
    "3. Why use Pandas?\n",
    "\n",
    "4. When should you use data frames, vs dictionaries vs lists?\n",
    "\n",
    "5. What is best if you are working with paired data (ei, genes and their expression)? Two lists, one with the gene names, and the other with the corresponding expression? Or some other data structure?\n",
    "\n",
    "6. Finally, give at least 3 coding best practices, as well as explaining why using functions is a good idea instead of repeating code."
   ]
  }
 ],
 "metadata": {
  "kernelspec": {
   "display_name": "Python 3 (ipykernel)",
   "language": "python",
   "name": "python3"
  },
  "language_info": {
   "codemirror_mode": {
    "name": "ipython",
    "version": 3
   },
   "file_extension": ".py",
   "mimetype": "text/x-python",
   "name": "python",
   "nbconvert_exporter": "python",
   "pygments_lexer": "ipython3",
   "version": "3.11.8"
  }
 },
 "nbformat": 4,
 "nbformat_minor": 2
}
