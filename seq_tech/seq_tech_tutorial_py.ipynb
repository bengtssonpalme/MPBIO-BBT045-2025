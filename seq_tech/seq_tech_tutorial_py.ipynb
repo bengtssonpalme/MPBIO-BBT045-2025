{
 "cells": [
  {
   "cell_type": "markdown",
   "id": "253f131b-18b9-403e-a546-8cb2a4f7b0c3",
   "metadata": {
    "kernel": "SoS",
    "tags": []
   },
   "source": [
    "##### BBT045: Sequencing Technologies Tutorial\n",
    "\n",
    "Author: Vi Varga (Adapted from Filip Buric (adapted from Rui Pereira))\n",
    "\n",
    "Last updated: 04.02.2025\n",
    "\n",
    "\n",
    "## Tutorial Overview\n",
    "\n",
    "- Working with Jupyter Notebooks to construct reproducible procedures\n",
    "- Running sequence processing software from the command line\n",
    "- Running sequence processing software from wrapper Python modules\n",
    "- Inspecting different output formats\n",
    "\n",
    "\n",
    "## Initial setup: Working environment and Data\n",
    "\n",
    "The beginning of this Notebook includes information on setting up a `conda` environment under the \"Working environment\" heading. __As you will be working on Vera, you will not be following those procedures!__ They are included only for reference, both as something you can look back at if/when you need to create and manage a `conda` environment yourself, as well as for you to be able to see my process, for how I went about setting up this Notebook. You can also download a copy of this Notebook from [here](seq_tech_tutorial_py.ipynb) for your own computer.\n",
    "\n",
    "The notebook will serve as both a rudimentary pipeline and final (reproducible) report.\n",
    "\n",
    "![Notebook usage example](./img/notebook_usage.drawio.png)\n",
    "\n",
    "\n",
    "## Directory and data setup\n",
    "\n",
    "We will be working in Jupyter Lab and primarily writing the commands in this Jupyter Notebook. However, the first commands in this section are easier if you run them from the terminal. (Note that depending on how you have things set up on your computer, you may have access to a Unix terminal within Jupyter Lab. Simply do: \"File\" → \"New\" → \"Terminal\" and a terminal will open in a new tab in Jupyter Lab.)\n",
    "\n",
    "Please create a directory for this tutorial in your home directory and inside there copy the starter notebook from my directory. To do this run the following commands in the terminal after logging on to the server:\n",
    "\n",
    "```bash\n",
    "cd\n",
    "mkdir \n",
    "cd NGS_Tutorial\n",
    "wget https://bengtssonpalme.github.io/MPBIO-BBT045-2025/seq_tech/seq_tech_tutorial_py.ipynb\n",
    "###\n",
    "# optionally, if you want the images to show up properly\n",
    "cp -r /cephyr/NOBACKUP/groups/bbt045_2025/Resources/SeqTech/img/ .\n",
    "```\n",
    "\n",
    "Now fetch a copy of the data we will be using:\n",
    "\n",
    "```bash\n",
    "cp /cephyr/NOBACKUP/groups/bbt045_2025/Resources/SeqTech/data.zip .\n",
    "# and now decompress the .zip file\n",
    "unzip data.zip\n",
    "# and clean up\n",
    "rm -r __MACOSX/\n",
    "# this directory is an artifact of the .zip file creation process\n",
    "# it's unnecessary, so it can be deleted\n",
    "```\n",
    "\n",
    "Also copy over the runtime environment file you will need: \n",
    "\n",
    "```bash\n",
    "cp /cephyr/NOBACKUP/groups/bbt045_2025/Resources/SeqTech/seq-tech-jupyter.sh ~/portal/jupyter/\n",
    "```\n",
    "\n",
    "To nicely see the contents of (small) directories, you can use the `tree` program:\n",
    "\n",
    "```bash\n",
    "tree data\n",
    "```\n",
    "\n",
    "You can also run `ls *` (which works on any system).\n",
    "\n",
    "Then create a results directory: \n",
    "\n",
    "```bash\n",
    "mkdir results\n",
    "```\n",
    "\n",
    "\n",
    "## Working environment\n",
    "\n",
    "### Background\n",
    "\n",
    "If you wish to create and use your own `conda` environments locally, on your own computer, you first need to install `conda`. See instructions [here](../unix/conda_install.html). Note that Vera does not like its users to create and use `conda` environments. This is because `conda` environments require a lot of files. Instead, all programs not already installed on Vera should be run from containers. \n",
    "\n",
    "It's standard practice to create a new `conda` environment for each project. This is because each project may require a number of different software packages, with certain versions. Even if these requirements are very similar between the projects, even small differences may topple the house of cards that is the software ecosystem. This is officially referred to as [\"dependency hell\"](https://en.wikipedia.org/wiki/Dependency_hell) and can cause you _more than a little_ frustration (to put it _mildly_).\n",
    "\n",
    "`Conda` can fetch packages from many different sources (aka \"channels\"). For bioinformatics purposes, usually the most important are the Bioconda channel and the general-purpose conda-forge channel (\"defaults\" is given first to give it top priority when searching for packages).\n",
    "\n",
    "You can add the channels by running the following in your Unix terminal (not in your Jupyter Notebook):\n",
    "\n",
    "```bash\n",
    "# adding conda channels\n",
    "conda config --add channels defaults\n",
    "conda config --add channels bioconda\n",
    "conda config --add channels conda-forge\n",
    "```\n",
    "\n",
    "### Setting up our environment\n",
    "\n",
    "Once `conda` has been set up properly, the user can proceed to ceate and activate new environments. Here, I'll demonstrate how I did that for this exercise. \n",
    "\n",
    "The `conda create` command creates new environments, the option `--name` (or `-n`) specifies the name of your new environment and the option `-y` lets `conda` know that you answer \"yes\" to all prompts. Without `-y` you will have to manually type in \"yes\" or \"y\" when prompted.\n",
    "\n",
    "The command `conda activate` activates the environment within the current code chunk **and only the current code chunk**. Which means that within every code chunk that we want to use our environment we need to first run `conda activate <environment_name>`. \n",
    "\n",
    "You could create and activate the `conda` environment used for this exercise by running the following in your Unix terminal (not in your Jupyter Notebook):\n",
    "\n",
    "```bash\n",
    "conda create --name sequencing -y\n",
    "# you can activate the environment by running: \n",
    "conda activate sequencing\n",
    "```\n",
    "\n",
    "### Installing relevant software\n",
    "\n",
    "Now we can install the software needed for this exercise. We want to install the software into the new environment so we first activate the environment with `conda activate`. The command `conda install` will install the packages that you specify. You can specify multiple packages at a time by separating them with spaces. This step will also ask for confirmation if we do not specify the `-y` option. \n",
    "\n",
    "Later on/in real life, it's good to to examine what changes are made when installing new packages. You can easily view all the packages installed in an environment by running `conda list` once the environment is activated. \n",
    "\n",
    "**Make sure you activate your environment prior to beginning software installation!** Uninstalling software packages from the base `conda` environment is not an easy process.\n",
    "\n",
    "While doing the installations, I ran the following lines of code from my Unix terminal: \n",
    "\n",
    "```bash\n",
    "conda activate sequencing\n",
    "# conda install gsl==2.5 samtools bowtie2 breseq abyss bcftools wgsim emboss tree ncurses -y\n",
    "# you can often install all packages in a conda environment as shown above\n",
    "# however in this case, it's actually quicker to run multiple commands: \n",
    "conda install gsl==2.5\n",
    "# this is necessary to prevent a dependency issue with bcftools\n",
    "# ref: https://www.biostars.org/p/9480029/#9573995\n",
    "conda install -c bioconda samtools\n",
    "conda install -c bioconda bowtie2 \n",
    "conda install -c bioconda breseq \n",
    "conda install -c bioconda abyss \n",
    "conda install -c bioconda bcftools \n",
    "conda install -c bioconda wgsim \n",
    "conda install -c bioconda emboss \n",
    "conda install tree\n",
    "conda install -c conda-forge ncurses\n",
    "# otherwise ncurses may install without a version number, which will cause samtools to raise an error\n",
    "# ref: https://stackoverflow.com/questions/72103046/libtinfo-so-6-no-version-information-available-message-using-conda-environment\n",
    "# and install a few python libraries\n",
    "conda install pandas seaborn\n",
    "```\n",
    "\n",
    "It's later possible to inspect the installed packages with: \n",
    "\n",
    "```bash\n",
    "conda activate sequencing\n",
    "conda list\n",
    "```\n",
    "\n",
    "### Running `conda` in Jupyter Notebooks\n",
    "\n",
    "Because Jupyter is packaged within an Anaconda installation, you should be able to run `conda` commands directly from this Jupyter Notebook with just a little modification. Simply install the IPython kernel in any environment you wish to use in Jupyter Notebooks, **and** the `nb_conda_kernels` program in your base `conda` environment. \n",
    "\n",
    "**PLEASE NOTE!!!** Enable the creation of a kernel only _after_ you have installed all of the programs you intend to install in your environment! Starting with the `ipykernel` installation can raise errors that will prevent you from installing the programs you are actually going to use in your environment! \n",
    "\n",
    "```bash\n",
    "# do this inside of your working conda environment, not in the base environment\n",
    "conda install ipykernel\n",
    "```\n",
    "\n",
    "Now create a kernel for the `conda` environment, by running the following in that same Unix terminal: \n",
    "\n",
    "```bash\n",
    "# you can run this from the base conda environment\n",
    "python -m ipykernel install --user --name=sequencing\n",
    "# this should return something like: \n",
    "# Installed kernelspec sequencing in /home/vivarga/.local/share/jupyter/kernels/sequencing\n",
    "```\n",
    "\n",
    "For more information, check out [this website](https://saturncloud.io/blog/how-to-use-conda-environment-in-a-jupyter-notebook/).\n",
    "\n",
    "Once you have installed the above in your environment, you also need to install the `nb_conda_kernels` program in your base `conda` environment: \n",
    "\n",
    "```bash\n",
    "# in base conda environment\n",
    "conda install conda-forge::nb_conda_kernels\n",
    "# ref: https://stackoverflow.com/questions/39604271/conda-environments-not-showing-up-in-jupyter-notebook/56409235#56409235\n",
    "```\n",
    "\n",
    "If you were following along because you want to try running this Notebook on your local computer (i.e., not on Vera), you should now be able to activate the `sequencing` `conda` environment within this Jupyter Notebook, by selecting the `Python [conda env:sequencing]` kernel within Jupyter Lab. Since you will be working within a kernel made from your `conda` environment, there will be no need to run `conda activate sequencing` in any of the cells in this Notebook. (There should also be a `sequencing` kernel, but you likely won't be able to run programs installed in the environment using this kernel.) This can be done either from the kernel display at the top right side of the Jupyter Lab screen, or via \"Kernel\" → \"Change Kernel...\" → select the kernel of choice\n",
    "\n",
    "![Two options for changing the kernel](./img/select_kernel.png)\n",
    "\n",
    "![Kernel selection popup](./img/select_kernel_dropdown.png)\n",
    "\n",
    "### Compiling software into a container\n",
    "\n",
    "In our case, we will be running Jupyter from a container on Vera, rather than directly from the command line. This is because we need a lot of software that doesn't come packaged with Python modules. \n",
    "\n",
    "The container we will be using is available in the `/cephyr/NOBACKUP/groups/bbt045_2025/Containers/` directory. It was created as is shown below: \n",
    "\n",
    "```bash\n",
    "# first, export the conda environment to a YAML file\n",
    "conda env export -n sequencing > sequencing.yml\n",
    "# build the container using Apptainer\n",
    "apptainer build --build-arg ENV_FILE=sequencing.yml conda-sequencing.sif conda_environment_args_ubuntu.def\n",
    "```\n",
    "\n",
    "\n",
    "## Running Jupyter from Vera OnDemand\n",
    "\n",
    "This exercise is intended to be run similarly to how you ran the Python tutorial, using Vera OnDemand. \n",
    "\n",
    "In order to ensure you start off correctly, please ensure the following: \n",
    " - You have created your `NGS_Tutorial/` directory and have downloaded this Jupyter Notebook into it\n",
    " - You have copied all relevant files from the `/cephyr/NOBACKUP/groups/bbt045_2025/Resources/SeqTech/` directory, particularly the `data.zip` file\n",
    " - You have placed your copied the `seq-tech-jupyter.sh` file from the above directory to your local `~/portal/jupyter/` directory\n",
    "\n",
    "If all of the above are true, set the path to your `NGS_Tutorial/` directory as your working directory and the `seq-tech-jupyter.sh` script as your runtime, and launch Jupyter via Vera OnDemand. Remember to increase the default time requested to 3-4 hours, and ideally select an ICELAKE core, as the default SKYLAKE core may not function correctly.\n",
    "\n",
    "Note that many of the commands in this Jupyter Notebook will raise the following error: \"/usr/share/lmod/lmod/init/bash: line 25: /usr/share/lmod/lmod/libexec/addto: cannot execute: required file not found\". Please just ignore it, as it is harmless - your commands will still run, regardless of this error being reported back to you. It is an artifact of the program containerization process. "
   ]
  },
  {
   "cell_type": "markdown",
   "id": "ebd47267-c5d9-486b-b160-acb70726b092",
   "metadata": {
    "kernel": "SoS"
   },
   "source": [
    "## Exercise 1: Alignment\n",
    "\n",
    "We'll be aligning sequencing data against the reference genome of a Varicella virus.\n",
    "\n",
    "![](img/align_to_ref.png)\n",
    "\n",
    "This mainly involves using `bowtie2` to align short-read sequencing data to the reference genome and `samtools` to post-process and visualize the result:\n",
    "\n",
    "Raw data files:\n",
    "- Varicella reference genome: `data/ref/varicella.gb`\n",
    "- Sequencing files: `data/seq/varicella1.fastq`, `data/seq/varicella2.fastq`\n",
    "\n",
    "You can run the commands in the terminal directly to test them out, but they should be included (in order) in the Jupyter Notebook, so copy the code chunks and run the chunk from the notebook. The next code block demonstrates how to run bash commands from a Jupyter Notebook.\n",
    "\n",
    "## Protocol\n",
    "\n",
    "### Step 1: Init\n",
    "\n",
    "Create a separate results directory, using either the command line, or your Jupyter Notebook. In your `bash` terminal, you can run: \n",
    "\n",
    "```bash\n",
    "mkdir results/exercise1\n",
    "```\n",
    "\n",
    "Alternately, you can run the folloing directly from your Jupyter Notebook. (Note the \"! \" at the start of the line; this tells Jupyter to execute the commands on that line on the command line, rather than in Python.)"
   ]
  },
  {
   "cell_type": "code",
   "execution_count": null,
   "id": "58c5630a-d589-4387-9d4a-9cba06d4c2b7",
   "metadata": {
    "kernel": "SoS",
    "tags": []
   },
   "outputs": [],
   "source": [
    "# run bash commands from Jupyter Notebook with an ! at the start of the line\n",
    "! mkdir -p results/exercise1\n",
    "# -p also makes the parent directories\n",
    "# so this command will work even if you forgot to make the results/ directory earlier"
   ]
  },
  {
   "cell_type": "markdown",
   "id": "d4ad1a8d-345c-4cb5-8cef-78b1ecc384e4",
   "metadata": {
    "kernel": "SoS"
   },
   "source": [
    "### Step 2: Preprocess\n",
    "\n",
    "`bowtie2` requires an index file for the reference sequence. This index can only be constructed from a FASTA file but it's common practice to find reference genomes in GenBank (GFF3) format.\n",
    "\n",
    "Convert `varicella.gb` to FASTA using the [seqret](http://emboss.sourceforge.net/apps/cvs/emboss/apps/seqret.html) converter from the EMBOSS package, then build the bowtie index accordingly.\n",
    "\n",
    "> (Computation time: seconds)"
   ]
  },
  {
   "cell_type": "code",
   "execution_count": null,
   "id": "0a7c39f9-26b8-4209-aedf-7a876689199a",
   "metadata": {
    "kernel": "SoS"
   },
   "outputs": [],
   "source": [
    "# Convert GFF3 > FASTA\n",
    "! seqret -sequence data/ref/varicella.gb -feature -fformat gff3 -osformat fasta data/ref/varicella.fasta\n",
    "\n",
    "# This file is outptut by seqret in the current directory (because bad design)\n",
    "# So we move it where it belongs\n",
    "! mv varicella.gff data/ref/\n",
    "\n",
    "# Document how the FASTA file was created\n",
    "! touch data/ref/README.txt\n",
    "! echo \"vaircella.fasta converted from GFF as:\" > data/ref/README.txt\n",
    "! echo \"seqret -sequence data/ref/varicella.gb -feature -fformat gff3 -osformat fasta data/ref/varicella.fasta\" >> data/ref/README.txt\n",
    "\n",
    "# Save index files in own directory\n",
    "! mkdir results/exercise1/bowtie_index\n",
    "# Build the bowtie2 index\n",
    "! bowtie2-build -f data/ref/varicella.fasta results/exercise1/bowtie_index/varicella"
   ]
  },
  {
   "cell_type": "markdown",
   "id": "215d99e2-9724-45ff-9a76-efa182690c62",
   "metadata": {
    "kernel": "SoS"
   },
   "source": [
    "### Step 3: Align sequences to reference\n",
    "\n",
    "Align the sequencing data to the reference genome using `bowtie2`. This will create the file `varicella.sam`. The `\\` symbol simply breaks the command across multiple lines for readability.\n",
    "\n",
    "> (Computation time: 1 min)"
   ]
  },
  {
   "cell_type": "code",
   "execution_count": null,
   "id": "9df37733-9e02-4b08-91ba-fdaecf823db6",
   "metadata": {
    "kernel": "SoS"
   },
   "outputs": [],
   "source": [
    "! mkdir results/exercise1/alignment\n",
    "! bowtie2 -x results/exercise1/bowtie_index/varicella -1 data/seq/varicella1.fastq -2 data/seq/varicella2.fastq -S results/exercise1/alignment/varicella.sam"
   ]
  },
  {
   "cell_type": "markdown",
   "id": "891da8b2-8817-4cb6-911e-a32b4c9a5b3c",
   "metadata": {
    "kernel": "SoS"
   },
   "source": [
    "### Step 4: Convert alignment to binary format\n",
    "\n",
    "To make reading the alignment info easier for the computer,\n",
    "convert the sequence alignment map (SAM) file to binary alignment map (BAM)\n",
    "using the `samtools` `view` command:\n",
    "\n",
    "> (Computation time: seconds)"
   ]
  },
  {
   "cell_type": "code",
   "execution_count": null,
   "id": "b41c25ea-37a4-4955-9727-52fed2aa2388",
   "metadata": {
    "kernel": "SoS"
   },
   "outputs": [],
   "source": [
    "! samtools view -b -S -o results/exercise1/alignment/varicella.bam results/exercise1/alignment/varicella.sam"
   ]
  },
  {
   "cell_type": "markdown",
   "id": "c347a1cc-7bbf-45bf-abc9-605eec2fd895",
   "metadata": {
    "kernel": "SoS"
   },
   "source": [
    "### Step 5: Optimize alignment (pt 1)\n",
    "\n",
    "To optimize the lookup in the alignment map,\n",
    "sort the BAM file using `samtools sort` command.\n",
    "This will create the file `varicella.sorted.bam`\n",
    "\n",
    "> (Computation time: seconds)"
   ]
  },
  {
   "cell_type": "code",
   "execution_count": null,
   "id": "8aa7edb9-3425-4812-bcab-e4b8ca4adea5",
   "metadata": {
    "kernel": "SoS"
   },
   "outputs": [],
   "source": [
    "! samtools sort results/exercise1/alignment/varicella.bam -o results/exercise1/alignment/varicella.sorted.bam"
   ]
  },
  {
   "cell_type": "markdown",
   "id": "90aca9fd-06e5-4605-ba8b-de4db82faf8c",
   "metadata": {
    "kernel": "SoS"
   },
   "source": [
    "### Step 6: Optimize alignment (pt 2)\n",
    "\n",
    "To speed up reading the BAM file even more,\n",
    "index the sorted BAM file using `samtools` `index` command:\n",
    "\n",
    "> (Computation time: seconds)\n",
    "\n",
    "This will create a BAI file called `results/exercise1/alignment/varicella.sorted.bam.bai`"
   ]
  },
  {
   "cell_type": "code",
   "execution_count": null,
   "id": "731b609a-0155-4556-9712-fb895a2faa8a",
   "metadata": {
    "kernel": "SoS"
   },
   "outputs": [],
   "source": [
    "! samtools index results/exercise1/alignment/varicella.sorted.bam"
   ]
  },
  {
   "cell_type": "markdown",
   "id": "c9220abf-32e5-4ab1-9918-586aee62d9f1",
   "metadata": {
    "kernel": "SoS"
   },
   "source": [
    "### Step 7: Calculate alignment coverage\n",
    "\n",
    "Calculate the average coverage of the alignment using the `samtools depth` command and the Unix `awk` text processor to extract the values of interest:\n",
    "\n",
    "> (Computation time: 1s)\n",
    "\n",
    "Output should be: \n",
    "\n",
    "Answer: \n",
    "\n",
    "<font color=\"white\">\n",
    "`Average =  199.775`\n",
    "</font>"
   ]
  },
  {
   "cell_type": "code",
   "execution_count": null,
   "id": "cd7808b3-a7fa-46b3-b997-7d8acc4aa9d8",
   "metadata": {
    "kernel": "SoS"
   },
   "outputs": [],
   "source": [
    "! samtools depth results/exercise1/alignment/varicella.sorted.bam | awk '{sum+=$3} END {print \"Average = \", sum/124884}'"
   ]
  },
  {
   "cell_type": "markdown",
   "id": "a2195a88-9b14-43e9-bcac-acf88241ef15",
   "metadata": {
    "kernel": "SoS"
   },
   "source": [
    "## Question\n",
    "\n",
    "Use the `samtools depth` command to extract coverage info and create a coverage map of the genome (position vs. coverage). Read the help for the tool with `samtools help depth`. The output format is described at the end of the help."
   ]
  },
  {
   "cell_type": "code",
   "execution_count": null,
   "id": "4eb80458-b35d-4a37-a8b9-2eedecc024dc",
   "metadata": {
    "kernel": "SoS"
   },
   "outputs": [],
   "source": [
    "! samtools depth results/exercise1/alignment/varicella.sorted.bam > results/exercise1/alignment/coverage.tsv"
   ]
  },
  {
   "cell_type": "markdown",
   "id": "7d873bc5-25db-477b-95c7-ffc1c6c8a192",
   "metadata": {
    "kernel": "SoS"
   },
   "source": [
    "Plot the result with Python:"
   ]
  },
  {
   "cell_type": "code",
   "execution_count": null,
   "id": "d739cb0a-5d76-4281-98c1-cdf041f2de2b",
   "metadata": {
    "kernel": "SoS"
   },
   "outputs": [],
   "source": [
    "# load necessary modules\n",
    "import pandas as pd\n",
    "import seaborn as sns\n",
    "import matplotlib.pyplot as plt\n",
    "import warnings # module to manage warnings\n",
    "warnings.simplefilter(action='ignore', category=FutureWarning) # prevent Python from warning of future feature deprecation"
   ]
  },
  {
   "cell_type": "code",
   "execution_count": null,
   "id": "378a1058-55e0-42f6-b0e6-2c2192507997",
   "metadata": {
    "kernel": "SoS"
   },
   "outputs": [],
   "source": [
    "# import data into Pandas dataframe\n",
    "alignment_coverage_df = pd.read_csv('results/exercise1/alignment/coverage.tsv', sep = '\\t', names = [\"reference_name\", \"position\", \"coverage_depth\"])\n",
    "\n",
    "# create histogram of data\n",
    "alignment_coverage_plot = sns.histplot(data = alignment_coverage_df, x = \"coverage_depth\")\n",
    "# next add labels to the axes & a title\n",
    "alignment_coverage_plot.set_title('Alignment Coverage')\n",
    "alignment_coverage_plot.set_ylabel('Counts')\n",
    "alignment_coverage_plot.set_xlabel('Alignment coverage depth')\n",
    "\n",
    "# visualize the plot\n",
    "alignment_coverage_plot"
   ]
  },
  {
   "cell_type": "markdown",
   "id": "cfecefac-d0da-428d-a59e-32b6e7a0c5a0",
   "metadata": {
    "kernel": "SoS"
   },
   "source": [
    "## Exercise 2: Finding Mutations with SAMtools\n",
    "\n",
    "We now look at a second set of sequencing data, with mutations (`data/seq/varicella_mut1.fastq` and `data/seq/varicella_mut1.fastq`)\n",
    "\n",
    "![](img/align_mut_to_ref.png)\n",
    "\n",
    "We'll still be using `bowtie2` and `samtools` to perform these tasks, however we'll be structuring all the steps in to one script.\n",
    "\n",
    "This approach has the great advantage that we don't need to copy-paste all we did above just to change the name of the input files. That's cumbersome and *very* error-prone. Instead we just need to change the file name at one location.\n",
    "\n",
    "## Protocol\n",
    "\n",
    "\n",
    "### Step 1: Align sequences to reference\n",
    "\n",
    "Create a sorted and indexed BAM file using the code below, which encapsulates steps 2-6 from Exercise 1 (except for the GFF > FASTA conversion).\n",
    "\n",
    "Tip: Run `ls -l data/*` or `tree data` if you forget what files you're working on.\n",
    "\n",
    "The workflow will also create `results/exercise2` for you.\n",
    "\n",
    "> (Computation time: 5 minutes)\n",
    "\n",
    "Note that here I've used `%%bash` at the start of the cell; this is part of IPython's \"cell magics\". When you start a code cell with `%%`, you can transform the entire cell into a different language, rather than only transforming a single line. So for example, you could do `%%R` to transform a regular Jupyter Notebook code cell (which runs Python by default) into an R code cell. "
   ]
  },
  {
   "cell_type": "code",
   "execution_count": null,
   "id": "6f2f3a6c-2bd0-424f-9067-481f4843ce03",
   "metadata": {
    "kernel": "SoS"
   },
   "outputs": [],
   "source": [
    "%%bash\n",
    "\n",
    "DATA_DIR=data/seq\n",
    "RESULT_DIR=results/exercise2\n",
    "\n",
    "REFERENCE_GENOME=data/ref/varicella.fasta\n",
    "READS_1=$DATA_DIR/varicella_mut1.fastq\n",
    "READS_2=$DATA_DIR/varicella_mut2.fastq\n",
    "\n",
    "\n",
    "BOWTIE_INDEX_DIR=$RESULT_DIR/bowtie_index\n",
    "ALIGNMENT_DIR=$RESULT_DIR/alignment\n",
    "\n",
    "# Make all directories\n",
    "mkdir $RESULT_DIR\n",
    "mkdir $BOWTIE_INDEX_DIR\n",
    "mkdir $ALIGNMENT_DIR\n",
    "\n",
    "# Build the bowtie2 index\n",
    "bowtie2-build -f $REFERENCE_GENOME $BOWTIE_INDEX_DIR/varicella\n",
    "\n",
    "\n",
    "bowtie2 -x $BOWTIE_INDEX_DIR/varicella -1 $READS_1 -2 $READS_2 -S $ALIGNMENT_DIR/varicella_mut.sam\n",
    "\n",
    "samtools view -b -S -o $ALIGNMENT_DIR/varicella_mut.bam $ALIGNMENT_DIR/varicella_mut.sam\n",
    "    \n",
    "samtools sort $ALIGNMENT_DIR/varicella_mut.bam -o $ALIGNMENT_DIR/varicella_mut.sorted.bam\n",
    "    \n",
    "samtools index $ALIGNMENT_DIR/varicella_mut.sorted.bam"
   ]
  },
  {
   "cell_type": "markdown",
   "id": "63c0fb10-1467-4b75-99f8-30c6fca89a65",
   "metadata": {
    "kernel": "SoS"
   },
   "source": [
    "### Step 2: Identify point mutations\n",
    "\n",
    "Use the `samtools mpileup` command to identify genomic variants (aka single nucleotide variants, [SNVs](https://en.wikipedia.org/wiki/SNV_calling_from_NGS_data)) in the alignment. This will create the file `varicella_variants.bcf`"
   ]
  },
  {
   "cell_type": "code",
   "execution_count": null,
   "id": "4ad0dd32-fdc1-4627-ac3c-f7b8e0db33ae",
   "metadata": {
    "kernel": "SoS"
   },
   "outputs": [],
   "source": [
    "! bcftools mpileup -f data/ref/varicella.fasta results/exercise2/alignment/varicella_mut.sorted.bam -O u > results/exercise2/varicella_variants.bcf"
   ]
  },
  {
   "cell_type": "markdown",
   "id": "f398067f-606e-4142-87a0-becaff050f60",
   "metadata": {
    "kernel": "SoS"
   },
   "source": [
    "### Step 3: Inspect mutations (pt 1)\n",
    "\n",
    "Use `bcftools call` command to convert the binary call format (BCF) to (human-readable) variant call format ([VCF](https://en.wikipedia.org/wiki/Variant_Call_Format)). This will create the file `varicella_variants.vcf`"
   ]
  },
  {
   "cell_type": "code",
   "execution_count": null,
   "id": "897a3791-14d5-4f25-a8dc-a45744fbf312",
   "metadata": {
    "kernel": "SoS"
   },
   "outputs": [],
   "source": [
    "! bcftools call -c -v results/exercise2/varicella_variants.bcf > results/exercise2/varicella_variants.vcf"
   ]
  },
  {
   "cell_type": "markdown",
   "id": "9345a519-33d0-41d7-a441-3944350b59c0",
   "metadata": {
    "kernel": "SoS"
   },
   "source": [
    "If you wish to inspect it, run `less -S results/exercise2/varicella_variants.vcf`.\n",
    "\n",
    "The file contains quite a lot of information, which we'll use later on. See https://en.wikipedia.org/wiki/Variant_Call_Format for more info.\n",
    "\n",
    "### Step 4: Inspect mutations (pt 2)\n",
    "\n",
    "Visualize the mutation detected on site `77985` using the `samtools tview` command.\n",
    "\n",
    "For this, you only need the BAM file. Remember that this files stores mutant-to-reference alignment information. VCF (and BCF) contain only the information needed for some downstream tasks.\n",
    "\n",
    "This is an interactive command so **run it in the terminal**:\n",
    "\n",
    "```bash\n",
    "samtools tview results/exercise2/alignment/varicella_mut.sorted.bam data/ref/varicella.fasta -p NC_001348:77985 \n",
    "```"
   ]
  },
  {
   "cell_type": "markdown",
   "id": "6646aa16-bf23-4094-b3e3-c34fd9f8b8d4",
   "metadata": {
    "kernel": "SoS"
   },
   "source": [
    "## Questions\n",
    "\n",
    "### Q1\n",
    "\n",
    "Inspect the VCF file columns using the Unix command chain:\n",
    "\n",
    "```bash\n",
    "# note that this command is also interactive - run it in the terminal\n",
    "grep -v \"^#\"  results/exercise2/varicella_variants.vcf | column -t | less -S\n",
    "```\n",
    "\n",
    "(Chain: Filter out header | align columns | show on screen)\n",
    "\n",
    "How can you interpret the [PHRED](https://en.wikipedia.org/wiki/Phred_quality_score) score values in the last column? See [the VCF specifications](https://samtools.github.io/hts-specs/VCFv4.2.pdf) (Section 5)\n",
    "\n",
    "Are all mutations homozygous? Should you expect any heterozygous mutations in this case?\n",
    "\n",
    "### Q2\n",
    "\n",
    "What assumption does `samtools mpileup` make about the model of genetic mutations? (Try running `bcftools mpileup` for help and scroll down.) \n",
    "\n",
    "Is this model appropriate for a virus?\n",
    "\n",
    "Answer: \n",
    "<font color=\"white\">\n",
    "samtools mpileup assumes the data originates from a diploid organism\n",
    "and models mutations based on the existence of two similar copies of the same sequence.\n",
    "Since viruses only have one copy of the genome, this model is not correct and \n",
    "it is not possible for a single genomic position to have two different bases.\n",
    "</font>\n",
    "\n",
    "### Q3\n",
    "\n",
    "Use `samtools mpileup` to inspect the site 73233. What is the frequency of each base on this site?\n",
    "\n",
    "Run the command below and see [Pileup format](https://en.wikipedia.org/wiki/Pileup_format)"
   ]
  },
  {
   "cell_type": "code",
   "execution_count": null,
   "id": "ffeefaff-78aa-4dc2-88a2-f0909f1248f4",
   "metadata": {
    "kernel": "SoS"
   },
   "outputs": [],
   "source": [
    "! samtools mpileup -r NC_001348:73233-73233 -f data/ref/varicella.fasta results/exercise2/alignment/varicella_mut.sorted.bam"
   ]
  },
  {
   "cell_type": "markdown",
   "id": "0e987887-ac7b-46eb-91ac-602a1ba56e15",
   "metadata": {
    "kernel": "SoS"
   },
   "source": [
    "Answer:  \n",
    "\n",
    "<font color=\"white\"> 170 T, 1 A, 2 G </font>"
   ]
  },
  {
   "cell_type": "markdown",
   "id": "6c142317-6054-4bae-8329-59177fc31afc",
   "metadata": {
    "kernel": "SoS"
   },
   "source": [
    "## Exercise 3: Finding Mutations with breseq\n",
    "\n",
    "Using the `breseq` pipeline to compute the mutations present in the mutant strain in comparison to the reference sequence provided for the varicella virus.\n",
    "\n",
    "\n",
    "## Protocol\n",
    "\n",
    "### Step 1: Init\n",
    "\n",
    "Create the results directory for this exercise:"
   ]
  },
  {
   "cell_type": "code",
   "execution_count": null,
   "id": "07e5c2c8-897e-4cf8-8eb6-0ac75b53a76d",
   "metadata": {
    "kernel": "SoS"
   },
   "outputs": [],
   "source": [
    "! mkdir results/exercise3"
   ]
  },
  {
   "cell_type": "markdown",
   "id": "2f8eaf5f-26b2-4833-9b38-af653f9ddaa7",
   "metadata": {
    "kernel": "SoS"
   },
   "source": [
    "### Step 2: Run\n",
    "\n",
    "> (Computation time: 5-10 minutes)\n",
    "\n",
    "Run `breseq`"
   ]
  },
  {
   "cell_type": "code",
   "execution_count": null,
   "id": "3880ffda-de3f-4842-8c0a-74737737bfef",
   "metadata": {
    "kernel": "SoS"
   },
   "outputs": [],
   "source": [
    "! breseq -j 1 -o results/exercise3 -r data/ref/varicella.gb data/seq/varicella_mut*.fastq"
   ]
  },
  {
   "cell_type": "markdown",
   "id": "624fddde-50ed-46ff-b572-896846ca6ef6",
   "metadata": {
    "kernel": "SoS"
   },
   "source": [
    "## Questions\n",
    "\n",
    "### Q1\n",
    "\n",
    "Open the `index.html` file in the `results/exercise3/output` folder and compare the mutations detected to those identified in Exercise 2. \n",
    "\n",
    "Answer: \n",
    "\n",
    "<font color=\"white\">\n",
    "One mutation is missing in breseq\n",
    "</font>\n",
    "\n",
    "### Q2\n",
    "\n",
    "Use the `breseq bam2aln` command to investigate the missing mutations\n",
    "\n",
    "Answer:\n",
    "\n",
    "<font color=\"white\">\n",
    "`breseq bam2aln -f data/ref/varicella.fasta -b results/exercise2/alignment/varicella_mut.sorted.bam -r NC_001348:117699-117699 -o results/exercise3/missing_mutations.html`\n",
    "</font>"
   ]
  },
  {
   "cell_type": "code",
   "execution_count": null,
   "id": "3470203e-2785-4466-bc0c-992066cea89f",
   "metadata": {},
   "outputs": [],
   "source": []
  },
  {
   "cell_type": "markdown",
   "id": "274cd4e7-80f4-4cbb-9f17-77d78895f3a9",
   "metadata": {
    "kernel": "SoS"
   },
   "source": [
    "Now open the output `results/exercise3/missing_mutations.html` with Jupyter Lab.\n",
    "\n",
    "Breseq missed this mutation in the output table.\n",
    "\n",
    "### Q3\n",
    "\n",
    "Open the `results/exercise3/output/summary.html` file and find the mean coverage of the alignment.\n",
    "\n",
    "Explore the results directory in ourder to find and take a look at the coverage plot."
   ]
  },
  {
   "cell_type": "markdown",
   "id": "d45536af-616f-4f7c-9b66-9e030c6c36fd",
   "metadata": {
    "kernel": "SoS"
   },
   "source": [
    "# Exercise 4: De novo genome assembly\n",
    "\n",
    "So far we've been using a reference genome to align reads to it.\n",
    "When one is not available, the genome has to be assembled *de novo* from the reads.\n",
    "Here, we'll be using the `abyss` assembler with reads from the *dumas* strain of the varicella virus.\n",
    "\n",
    "![](img/assembly.png)\n",
    "\n",
    "Sequencing files from *dumas* strain: `data/varicella_l1.fastq`, `data/varicella_l2.fastq`\n",
    "\n",
    "## Protocol\n",
    "\n",
    "\n",
    "### Step 1: Init"
   ]
  },
  {
   "cell_type": "code",
   "execution_count": null,
   "id": "791eb1ac-fc7c-49ec-a42b-f2d181bfd024",
   "metadata": {
    "kernel": "SoS"
   },
   "outputs": [],
   "source": [
    "! mkdir results/exercise4"
   ]
  },
  {
   "cell_type": "markdown",
   "id": "72ddc6ac-386d-4b12-ba61-96cae83f3ca4",
   "metadata": {
    "kernel": "SoS"
   },
   "source": [
    "### Step 1: Assembly\n",
    "\n",
    "Assemble the reads provided into a genome using `abyss-pe` for `k=128`\n",
    "\n",
    "> (Computation time: 5 minutes)"
   ]
  },
  {
   "cell_type": "code",
   "execution_count": null,
   "id": "651aba26-9d81-4aa3-adfb-5014e67338d4",
   "metadata": {
    "kernel": "SoS"
   },
   "outputs": [],
   "source": [
    "! abyss-pe name=varicella k=100 B=8K s=150 --directory=results/exercise4 in='../../data/seq/varicella_l1.fastq ../../data/seq/varicella_l2.fastq'"
   ]
  },
  {
   "cell_type": "markdown",
   "id": "78473663-ae9f-4c5a-92ee-f9bcbefbff4b",
   "metadata": {
    "kernel": "SoS"
   },
   "source": [
    "## Questions\n",
    "\n",
    "### Q1\n",
    "\n",
    "How many unitigs, contigs and scaffolds were assembled?\n",
    "\n",
    "Hint: `less varicella-stats.md`\n",
    "\n",
    "Answer: <font color=\"white\">86, 90, 62</font>\n",
    "\n",
    "### Q2\n",
    "\n",
    "How big is the largest scaffold?\n",
    "\n",
    "Answer: <font color=\"white\">1000</font>\n",
    "\n",
    "### Q3\n",
    "\n",
    "What do you think, is this a good quality assembly? Hint: take a look through the messages printed to your screen!\n",
    "\n",
    "Answer: <font color=\"white\">\n",
    "Not really. Part way through, this warning is given: \"warning: the seed-length should be at least twice k: k=100, s=150\" \n",
    "The truth is, that I had to specifically modify the command in order to force it to work. This dataset doesn't produce a good assembly!\n",
    "</font>\n",
    "\n",
    "### Q4\n",
    "\n",
    "Use NCBI nucleotide blast (https://blast.ncbi.nlm.nih.gov/Blast.cgi) to find similar sequences to the scaffolds obtained. \n",
    "\n",
    "What is the most similar sequence obtained?"
   ]
  }
 ],
 "metadata": {
  "kernelspec": {
   "display_name": "Python [conda env:sequencing]",
   "language": "python",
   "name": "conda-env-sequencing-py"
  },
  "language_info": {
   "codemirror_mode": {
    "name": "ipython",
    "version": 3
   },
   "file_extension": ".py",
   "mimetype": "text/x-python",
   "name": "python",
   "nbconvert_exporter": "python",
   "pygments_lexer": "ipython3",
   "version": "3.10.13"
  },
  "sos": {
   "kernels": [
    [
     "SoS",
     "sos",
     "",
     ""
    ]
   ],
   "version": "0.24.3"
  }
 },
 "nbformat": 4,
 "nbformat_minor": 5
}
